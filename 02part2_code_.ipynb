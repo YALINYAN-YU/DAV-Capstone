{
  "nbformat": 4,
  "nbformat_minor": 0,
  "metadata": {
    "colab": {
      "name": "02part2-code .ipynb",
      "provenance": []
    },
    "kernelspec": {
      "name": "python3",
      "display_name": "Python 3"
    }
  },
  "cells": [
    {
      "cell_type": "code",
      "metadata": {
        "id": "isPfmbHR14or"
      },
      "source": [
        "import pandas as pd\n",
        "import numpy as np\n",
        "import matplotlib.pyplot as plt\n",
        "from sklearn.preprocessing import MinMaxScaler\n",
        "from keras.models import Sequential\n",
        "from keras.layers import Dense\n",
        "from keras.layers import LSTM\n",
        "from keras.layers import Dropout\n",
        "from keras.layers import Activation\n",
        "from keras.models import load_model"
      ],
      "execution_count": null,
      "outputs": []
    },
    {
      "cell_type": "code",
      "metadata": {
        "colab": {
          "base_uri": "https://localhost:8080/",
          "height": 204
        },
        "id": "jmfx-TsW2Bg7",
        "outputId": "b341cf0f-30c7-4945-af8e-66899a34d537"
      },
      "source": [
        "df = pd.read_csv('https://raw.githubusercontent.com/YALINYAN-YU/DAV-Capstone/main/consolidated_coin_data.csv', thousands=',')\n",
        "df.head()"
      ],
      "execution_count": null,
      "outputs": [
        {
          "output_type": "execute_result",
          "data": {
            "text/html": [
              "<div>\n",
              "<style scoped>\n",
              "    .dataframe tbody tr th:only-of-type {\n",
              "        vertical-align: middle;\n",
              "    }\n",
              "\n",
              "    .dataframe tbody tr th {\n",
              "        vertical-align: top;\n",
              "    }\n",
              "\n",
              "    .dataframe thead th {\n",
              "        text-align: right;\n",
              "    }\n",
              "</style>\n",
              "<table border=\"1\" class=\"dataframe\">\n",
              "  <thead>\n",
              "    <tr style=\"text-align: right;\">\n",
              "      <th></th>\n",
              "      <th>Currency</th>\n",
              "      <th>Date</th>\n",
              "      <th>Open</th>\n",
              "      <th>High</th>\n",
              "      <th>Low</th>\n",
              "      <th>Close</th>\n",
              "      <th>Volume</th>\n",
              "      <th>Market Cap</th>\n",
              "    </tr>\n",
              "  </thead>\n",
              "  <tbody>\n",
              "    <tr>\n",
              "      <th>0</th>\n",
              "      <td>tezos</td>\n",
              "      <td>Dec 04, 2019</td>\n",
              "      <td>1.29</td>\n",
              "      <td>1.32</td>\n",
              "      <td>1.25</td>\n",
              "      <td>1.25</td>\n",
              "      <td>46048752.0</td>\n",
              "      <td>824588509</td>\n",
              "    </tr>\n",
              "    <tr>\n",
              "      <th>1</th>\n",
              "      <td>tezos</td>\n",
              "      <td>Dec 03, 2019</td>\n",
              "      <td>1.24</td>\n",
              "      <td>1.32</td>\n",
              "      <td>1.21</td>\n",
              "      <td>1.29</td>\n",
              "      <td>41462224.0</td>\n",
              "      <td>853213342</td>\n",
              "    </tr>\n",
              "    <tr>\n",
              "      <th>2</th>\n",
              "      <td>tezos</td>\n",
              "      <td>Dec 02, 2019</td>\n",
              "      <td>1.25</td>\n",
              "      <td>1.26</td>\n",
              "      <td>1.20</td>\n",
              "      <td>1.24</td>\n",
              "      <td>27574097.0</td>\n",
              "      <td>817872179</td>\n",
              "    </tr>\n",
              "    <tr>\n",
              "      <th>3</th>\n",
              "      <td>tezos</td>\n",
              "      <td>Dec 01, 2019</td>\n",
              "      <td>1.33</td>\n",
              "      <td>1.34</td>\n",
              "      <td>1.25</td>\n",
              "      <td>1.25</td>\n",
              "      <td>24127567.0</td>\n",
              "      <td>828296390</td>\n",
              "    </tr>\n",
              "    <tr>\n",
              "      <th>4</th>\n",
              "      <td>tezos</td>\n",
              "      <td>Nov 30, 2019</td>\n",
              "      <td>1.31</td>\n",
              "      <td>1.37</td>\n",
              "      <td>1.31</td>\n",
              "      <td>1.33</td>\n",
              "      <td>28706667.0</td>\n",
              "      <td>879181680</td>\n",
              "    </tr>\n",
              "  </tbody>\n",
              "</table>\n",
              "</div>"
            ],
            "text/plain": [
              "  Currency          Date  Open  High   Low  Close      Volume  Market Cap\n",
              "0    tezos  Dec 04, 2019  1.29  1.32  1.25   1.25  46048752.0   824588509\n",
              "1    tezos  Dec 03, 2019  1.24  1.32  1.21   1.29  41462224.0   853213342\n",
              "2    tezos  Dec 02, 2019  1.25  1.26  1.20   1.24  27574097.0   817872179\n",
              "3    tezos  Dec 01, 2019  1.33  1.34  1.25   1.25  24127567.0   828296390\n",
              "4    tezos  Nov 30, 2019  1.31  1.37  1.31   1.33  28706667.0   879181680"
            ]
          },
          "metadata": {
            "tags": []
          },
          "execution_count": 2
        }
      ]
    },
    {
      "cell_type": "code",
      "metadata": {
        "colab": {
          "base_uri": "https://localhost:8080/",
          "height": 419
        },
        "id": "CKVofLV32Bqv",
        "outputId": "5a7a8523-e7cc-497e-97fb-3c00e8b8c025"
      },
      "source": [
        "df[\"price change\"] = \"\"\n",
        "df"
      ],
      "execution_count": null,
      "outputs": [
        {
          "output_type": "execute_result",
          "data": {
            "text/html": [
              "<div>\n",
              "<style scoped>\n",
              "    .dataframe tbody tr th:only-of-type {\n",
              "        vertical-align: middle;\n",
              "    }\n",
              "\n",
              "    .dataframe tbody tr th {\n",
              "        vertical-align: top;\n",
              "    }\n",
              "\n",
              "    .dataframe thead th {\n",
              "        text-align: right;\n",
              "    }\n",
              "</style>\n",
              "<table border=\"1\" class=\"dataframe\">\n",
              "  <thead>\n",
              "    <tr style=\"text-align: right;\">\n",
              "      <th></th>\n",
              "      <th>Currency</th>\n",
              "      <th>Date</th>\n",
              "      <th>Open</th>\n",
              "      <th>High</th>\n",
              "      <th>Low</th>\n",
              "      <th>Close</th>\n",
              "      <th>Volume</th>\n",
              "      <th>Market Cap</th>\n",
              "      <th>price change</th>\n",
              "    </tr>\n",
              "  </thead>\n",
              "  <tbody>\n",
              "    <tr>\n",
              "      <th>0</th>\n",
              "      <td>tezos</td>\n",
              "      <td>Dec 04, 2019</td>\n",
              "      <td>1.29</td>\n",
              "      <td>1.32</td>\n",
              "      <td>1.25</td>\n",
              "      <td>1.25</td>\n",
              "      <td>46048752.0</td>\n",
              "      <td>824588509</td>\n",
              "      <td></td>\n",
              "    </tr>\n",
              "    <tr>\n",
              "      <th>1</th>\n",
              "      <td>tezos</td>\n",
              "      <td>Dec 03, 2019</td>\n",
              "      <td>1.24</td>\n",
              "      <td>1.32</td>\n",
              "      <td>1.21</td>\n",
              "      <td>1.29</td>\n",
              "      <td>41462224.0</td>\n",
              "      <td>853213342</td>\n",
              "      <td></td>\n",
              "    </tr>\n",
              "    <tr>\n",
              "      <th>2</th>\n",
              "      <td>tezos</td>\n",
              "      <td>Dec 02, 2019</td>\n",
              "      <td>1.25</td>\n",
              "      <td>1.26</td>\n",
              "      <td>1.20</td>\n",
              "      <td>1.24</td>\n",
              "      <td>27574097.0</td>\n",
              "      <td>817872179</td>\n",
              "      <td></td>\n",
              "    </tr>\n",
              "    <tr>\n",
              "      <th>3</th>\n",
              "      <td>tezos</td>\n",
              "      <td>Dec 01, 2019</td>\n",
              "      <td>1.33</td>\n",
              "      <td>1.34</td>\n",
              "      <td>1.25</td>\n",
              "      <td>1.25</td>\n",
              "      <td>24127567.0</td>\n",
              "      <td>828296390</td>\n",
              "      <td></td>\n",
              "    </tr>\n",
              "    <tr>\n",
              "      <th>4</th>\n",
              "      <td>tezos</td>\n",
              "      <td>Nov 30, 2019</td>\n",
              "      <td>1.31</td>\n",
              "      <td>1.37</td>\n",
              "      <td>1.31</td>\n",
              "      <td>1.33</td>\n",
              "      <td>28706667.0</td>\n",
              "      <td>879181680</td>\n",
              "      <td></td>\n",
              "    </tr>\n",
              "    <tr>\n",
              "      <th>...</th>\n",
              "      <td>...</td>\n",
              "      <td>...</td>\n",
              "      <td>...</td>\n",
              "      <td>...</td>\n",
              "      <td>...</td>\n",
              "      <td>...</td>\n",
              "      <td>...</td>\n",
              "      <td>...</td>\n",
              "      <td>...</td>\n",
              "    </tr>\n",
              "    <tr>\n",
              "      <th>28939</th>\n",
              "      <td>bitcoin-sv</td>\n",
              "      <td>May 02, 2013</td>\n",
              "      <td>3.78</td>\n",
              "      <td>4.04</td>\n",
              "      <td>3.01</td>\n",
              "      <td>3.37</td>\n",
              "      <td>0.0</td>\n",
              "      <td>58287979</td>\n",
              "      <td></td>\n",
              "    </tr>\n",
              "    <tr>\n",
              "      <th>28940</th>\n",
              "      <td>bitcoin-sv</td>\n",
              "      <td>May 01, 2013</td>\n",
              "      <td>4.29</td>\n",
              "      <td>4.36</td>\n",
              "      <td>3.52</td>\n",
              "      <td>3.80</td>\n",
              "      <td>0.0</td>\n",
              "      <td>65604596</td>\n",
              "      <td></td>\n",
              "    </tr>\n",
              "    <tr>\n",
              "      <th>28941</th>\n",
              "      <td>bitcoin-sv</td>\n",
              "      <td>Apr 30, 2013</td>\n",
              "      <td>4.40</td>\n",
              "      <td>4.57</td>\n",
              "      <td>4.17</td>\n",
              "      <td>4.30</td>\n",
              "      <td>0.0</td>\n",
              "      <td>74020918</td>\n",
              "      <td></td>\n",
              "    </tr>\n",
              "    <tr>\n",
              "      <th>28942</th>\n",
              "      <td>bitcoin-sv</td>\n",
              "      <td>Apr 29, 2013</td>\n",
              "      <td>4.37</td>\n",
              "      <td>4.57</td>\n",
              "      <td>4.23</td>\n",
              "      <td>4.38</td>\n",
              "      <td>0.0</td>\n",
              "      <td>75388964</td>\n",
              "      <td></td>\n",
              "    </tr>\n",
              "    <tr>\n",
              "      <th>28943</th>\n",
              "      <td>bitcoin-sv</td>\n",
              "      <td>Apr 28, 2013</td>\n",
              "      <td>4.30</td>\n",
              "      <td>4.40</td>\n",
              "      <td>4.18</td>\n",
              "      <td>4.35</td>\n",
              "      <td>0.0</td>\n",
              "      <td>74636938</td>\n",
              "      <td></td>\n",
              "    </tr>\n",
              "  </tbody>\n",
              "</table>\n",
              "<p>28944 rows × 9 columns</p>\n",
              "</div>"
            ],
            "text/plain": [
              "         Currency          Date  Open  ...      Volume  Market Cap  price change\n",
              "0           tezos  Dec 04, 2019  1.29  ...  46048752.0   824588509              \n",
              "1           tezos  Dec 03, 2019  1.24  ...  41462224.0   853213342              \n",
              "2           tezos  Dec 02, 2019  1.25  ...  27574097.0   817872179              \n",
              "3           tezos  Dec 01, 2019  1.33  ...  24127567.0   828296390              \n",
              "4           tezos  Nov 30, 2019  1.31  ...  28706667.0   879181680              \n",
              "...           ...           ...   ...  ...         ...         ...           ...\n",
              "28939  bitcoin-sv  May 02, 2013  3.78  ...         0.0    58287979              \n",
              "28940  bitcoin-sv  May 01, 2013  4.29  ...         0.0    65604596              \n",
              "28941  bitcoin-sv  Apr 30, 2013  4.40  ...         0.0    74020918              \n",
              "28942  bitcoin-sv  Apr 29, 2013  4.37  ...         0.0    75388964              \n",
              "28943  bitcoin-sv  Apr 28, 2013  4.30  ...         0.0    74636938              \n",
              "\n",
              "[28944 rows x 9 columns]"
            ]
          },
          "metadata": {
            "tags": []
          },
          "execution_count": 3
        }
      ]
    },
    {
      "cell_type": "code",
      "metadata": {
        "colab": {
          "base_uri": "https://localhost:8080/"
        },
        "id": "rFuEBor92Bv7",
        "outputId": "9db18020-7f6c-4457-87ff-70a5c0662e05"
      },
      "source": [
        "N = len(df['price change'])\n",
        "\n",
        "for i in range(N-1):\n",
        "  \n",
        "    #df.iloc.  = df.iloc[i+1,3]/df.iloc[i,3]\n",
        "\n",
        "    \n",
        "    df['price change'].iloc[i] = df.iloc[i+1,3]/df.iloc[i,3]-1\n",
        "\n",
        "df['price change'].iloc[N-1] = 0.0"
      ],
      "execution_count": null,
      "outputs": [
        {
          "output_type": "stream",
          "text": [
            "/usr/local/lib/python3.6/dist-packages/pandas/core/indexing.py:670: SettingWithCopyWarning: \n",
            "A value is trying to be set on a copy of a slice from a DataFrame\n",
            "\n",
            "See the caveats in the documentation: https://pandas.pydata.org/pandas-docs/stable/user_guide/indexing.html#returning-a-view-versus-a-copy\n",
            "  iloc._setitem_with_indexer(indexer, value)\n"
          ],
          "name": "stderr"
        }
      ]
    },
    {
      "cell_type": "code",
      "metadata": {
        "id": "Gu2ZR52U2B0N"
      },
      "source": [
        "import math"
      ],
      "execution_count": null,
      "outputs": []
    },
    {
      "cell_type": "code",
      "metadata": {
        "colab": {
          "base_uri": "https://localhost:8080/",
          "height": 419
        },
        "id": "RQomub8h2B4o",
        "outputId": "7a33668a-dc9d-4a9c-af94-cc249d94b0c8"
      },
      "source": [
        "df['changeRate']=''\n",
        "df"
      ],
      "execution_count": null,
      "outputs": [
        {
          "output_type": "execute_result",
          "data": {
            "text/html": [
              "<div>\n",
              "<style scoped>\n",
              "    .dataframe tbody tr th:only-of-type {\n",
              "        vertical-align: middle;\n",
              "    }\n",
              "\n",
              "    .dataframe tbody tr th {\n",
              "        vertical-align: top;\n",
              "    }\n",
              "\n",
              "    .dataframe thead th {\n",
              "        text-align: right;\n",
              "    }\n",
              "</style>\n",
              "<table border=\"1\" class=\"dataframe\">\n",
              "  <thead>\n",
              "    <tr style=\"text-align: right;\">\n",
              "      <th></th>\n",
              "      <th>Currency</th>\n",
              "      <th>Date</th>\n",
              "      <th>Open</th>\n",
              "      <th>High</th>\n",
              "      <th>Low</th>\n",
              "      <th>Close</th>\n",
              "      <th>Volume</th>\n",
              "      <th>Market Cap</th>\n",
              "      <th>price change</th>\n",
              "      <th>changeRate</th>\n",
              "    </tr>\n",
              "  </thead>\n",
              "  <tbody>\n",
              "    <tr>\n",
              "      <th>0</th>\n",
              "      <td>tezos</td>\n",
              "      <td>Dec 04, 2019</td>\n",
              "      <td>1.29</td>\n",
              "      <td>1.32</td>\n",
              "      <td>1.25</td>\n",
              "      <td>1.25</td>\n",
              "      <td>46048752.0</td>\n",
              "      <td>824588509</td>\n",
              "      <td>0</td>\n",
              "      <td></td>\n",
              "    </tr>\n",
              "    <tr>\n",
              "      <th>1</th>\n",
              "      <td>tezos</td>\n",
              "      <td>Dec 03, 2019</td>\n",
              "      <td>1.24</td>\n",
              "      <td>1.32</td>\n",
              "      <td>1.21</td>\n",
              "      <td>1.29</td>\n",
              "      <td>41462224.0</td>\n",
              "      <td>853213342</td>\n",
              "      <td>-0.0454545</td>\n",
              "      <td></td>\n",
              "    </tr>\n",
              "    <tr>\n",
              "      <th>2</th>\n",
              "      <td>tezos</td>\n",
              "      <td>Dec 02, 2019</td>\n",
              "      <td>1.25</td>\n",
              "      <td>1.26</td>\n",
              "      <td>1.20</td>\n",
              "      <td>1.24</td>\n",
              "      <td>27574097.0</td>\n",
              "      <td>817872179</td>\n",
              "      <td>0.0634921</td>\n",
              "      <td></td>\n",
              "    </tr>\n",
              "    <tr>\n",
              "      <th>3</th>\n",
              "      <td>tezos</td>\n",
              "      <td>Dec 01, 2019</td>\n",
              "      <td>1.33</td>\n",
              "      <td>1.34</td>\n",
              "      <td>1.25</td>\n",
              "      <td>1.25</td>\n",
              "      <td>24127567.0</td>\n",
              "      <td>828296390</td>\n",
              "      <td>0.0223881</td>\n",
              "      <td></td>\n",
              "    </tr>\n",
              "    <tr>\n",
              "      <th>4</th>\n",
              "      <td>tezos</td>\n",
              "      <td>Nov 30, 2019</td>\n",
              "      <td>1.31</td>\n",
              "      <td>1.37</td>\n",
              "      <td>1.31</td>\n",
              "      <td>1.33</td>\n",
              "      <td>28706667.0</td>\n",
              "      <td>879181680</td>\n",
              "      <td>-0.0218978</td>\n",
              "      <td></td>\n",
              "    </tr>\n",
              "    <tr>\n",
              "      <th>...</th>\n",
              "      <td>...</td>\n",
              "      <td>...</td>\n",
              "      <td>...</td>\n",
              "      <td>...</td>\n",
              "      <td>...</td>\n",
              "      <td>...</td>\n",
              "      <td>...</td>\n",
              "      <td>...</td>\n",
              "      <td>...</td>\n",
              "      <td>...</td>\n",
              "    </tr>\n",
              "    <tr>\n",
              "      <th>28939</th>\n",
              "      <td>bitcoin-sv</td>\n",
              "      <td>May 02, 2013</td>\n",
              "      <td>3.78</td>\n",
              "      <td>4.04</td>\n",
              "      <td>3.01</td>\n",
              "      <td>3.37</td>\n",
              "      <td>0.0</td>\n",
              "      <td>58287979</td>\n",
              "      <td>0.0792079</td>\n",
              "      <td></td>\n",
              "    </tr>\n",
              "    <tr>\n",
              "      <th>28940</th>\n",
              "      <td>bitcoin-sv</td>\n",
              "      <td>May 01, 2013</td>\n",
              "      <td>4.29</td>\n",
              "      <td>4.36</td>\n",
              "      <td>3.52</td>\n",
              "      <td>3.80</td>\n",
              "      <td>0.0</td>\n",
              "      <td>65604596</td>\n",
              "      <td>0.0481651</td>\n",
              "      <td></td>\n",
              "    </tr>\n",
              "    <tr>\n",
              "      <th>28941</th>\n",
              "      <td>bitcoin-sv</td>\n",
              "      <td>Apr 30, 2013</td>\n",
              "      <td>4.40</td>\n",
              "      <td>4.57</td>\n",
              "      <td>4.17</td>\n",
              "      <td>4.30</td>\n",
              "      <td>0.0</td>\n",
              "      <td>74020918</td>\n",
              "      <td>0</td>\n",
              "      <td></td>\n",
              "    </tr>\n",
              "    <tr>\n",
              "      <th>28942</th>\n",
              "      <td>bitcoin-sv</td>\n",
              "      <td>Apr 29, 2013</td>\n",
              "      <td>4.37</td>\n",
              "      <td>4.57</td>\n",
              "      <td>4.23</td>\n",
              "      <td>4.38</td>\n",
              "      <td>0.0</td>\n",
              "      <td>75388964</td>\n",
              "      <td>-0.0371991</td>\n",
              "      <td></td>\n",
              "    </tr>\n",
              "    <tr>\n",
              "      <th>28943</th>\n",
              "      <td>bitcoin-sv</td>\n",
              "      <td>Apr 28, 2013</td>\n",
              "      <td>4.30</td>\n",
              "      <td>4.40</td>\n",
              "      <td>4.18</td>\n",
              "      <td>4.35</td>\n",
              "      <td>0.0</td>\n",
              "      <td>74636938</td>\n",
              "      <td>0</td>\n",
              "      <td></td>\n",
              "    </tr>\n",
              "  </tbody>\n",
              "</table>\n",
              "<p>28944 rows × 10 columns</p>\n",
              "</div>"
            ],
            "text/plain": [
              "         Currency          Date  Open  ...  Market Cap  price change  changeRate\n",
              "0           tezos  Dec 04, 2019  1.29  ...   824588509             0            \n",
              "1           tezos  Dec 03, 2019  1.24  ...   853213342    -0.0454545            \n",
              "2           tezos  Dec 02, 2019  1.25  ...   817872179     0.0634921            \n",
              "3           tezos  Dec 01, 2019  1.33  ...   828296390     0.0223881            \n",
              "4           tezos  Nov 30, 2019  1.31  ...   879181680    -0.0218978            \n",
              "...           ...           ...   ...  ...         ...           ...         ...\n",
              "28939  bitcoin-sv  May 02, 2013  3.78  ...    58287979     0.0792079            \n",
              "28940  bitcoin-sv  May 01, 2013  4.29  ...    65604596     0.0481651            \n",
              "28941  bitcoin-sv  Apr 30, 2013  4.40  ...    74020918             0            \n",
              "28942  bitcoin-sv  Apr 29, 2013  4.37  ...    75388964    -0.0371991            \n",
              "28943  bitcoin-sv  Apr 28, 2013  4.30  ...    74636938             0            \n",
              "\n",
              "[28944 rows x 10 columns]"
            ]
          },
          "metadata": {
            "tags": []
          },
          "execution_count": 6
        }
      ]
    },
    {
      "cell_type": "code",
      "metadata": {
        "colab": {
          "base_uri": "https://localhost:8080/"
        },
        "id": "M--o8Ux_2B9P",
        "outputId": "670ad7e2-4348-4d18-a295-b73bbeefe049"
      },
      "source": [
        "N = len(df['changeRate'])\n",
        "\n",
        "for i in range(N):\n",
        "  \n",
        "    \n",
        "    df['changeRate'].iloc[i] = abs(df['price change'].iloc[i])"
      ],
      "execution_count": null,
      "outputs": [
        {
          "output_type": "stream",
          "text": [
            "/usr/local/lib/python3.6/dist-packages/pandas/core/indexing.py:670: SettingWithCopyWarning: \n",
            "A value is trying to be set on a copy of a slice from a DataFrame\n",
            "\n",
            "See the caveats in the documentation: https://pandas.pydata.org/pandas-docs/stable/user_guide/indexing.html#returning-a-view-versus-a-copy\n",
            "  iloc._setitem_with_indexer(indexer, value)\n"
          ],
          "name": "stderr"
        }
      ]
    },
    {
      "cell_type": "code",
      "metadata": {
        "colab": {
          "base_uri": "https://localhost:8080/",
          "height": 419
        },
        "id": "Jlf-uRTAT0iW",
        "outputId": "74d8246c-42fc-4ca5-da4b-0f984681d5ed"
      },
      "source": [
        "df['breakout']=''\n",
        "df"
      ],
      "execution_count": null,
      "outputs": [
        {
          "output_type": "execute_result",
          "data": {
            "text/html": [
              "<div>\n",
              "<style scoped>\n",
              "    .dataframe tbody tr th:only-of-type {\n",
              "        vertical-align: middle;\n",
              "    }\n",
              "\n",
              "    .dataframe tbody tr th {\n",
              "        vertical-align: top;\n",
              "    }\n",
              "\n",
              "    .dataframe thead th {\n",
              "        text-align: right;\n",
              "    }\n",
              "</style>\n",
              "<table border=\"1\" class=\"dataframe\">\n",
              "  <thead>\n",
              "    <tr style=\"text-align: right;\">\n",
              "      <th></th>\n",
              "      <th>Currency</th>\n",
              "      <th>Date</th>\n",
              "      <th>Open</th>\n",
              "      <th>High</th>\n",
              "      <th>Low</th>\n",
              "      <th>Close</th>\n",
              "      <th>Volume</th>\n",
              "      <th>Market Cap</th>\n",
              "      <th>price change</th>\n",
              "      <th>changeRate</th>\n",
              "      <th>breakout</th>\n",
              "    </tr>\n",
              "  </thead>\n",
              "  <tbody>\n",
              "    <tr>\n",
              "      <th>0</th>\n",
              "      <td>tezos</td>\n",
              "      <td>Dec 04, 2019</td>\n",
              "      <td>1.29</td>\n",
              "      <td>1.32</td>\n",
              "      <td>1.25</td>\n",
              "      <td>1.25</td>\n",
              "      <td>46048752.0</td>\n",
              "      <td>824588509</td>\n",
              "      <td>0</td>\n",
              "      <td>0</td>\n",
              "      <td></td>\n",
              "    </tr>\n",
              "    <tr>\n",
              "      <th>1</th>\n",
              "      <td>tezos</td>\n",
              "      <td>Dec 03, 2019</td>\n",
              "      <td>1.24</td>\n",
              "      <td>1.32</td>\n",
              "      <td>1.21</td>\n",
              "      <td>1.29</td>\n",
              "      <td>41462224.0</td>\n",
              "      <td>853213342</td>\n",
              "      <td>-0.0454545</td>\n",
              "      <td>0.0454545</td>\n",
              "      <td></td>\n",
              "    </tr>\n",
              "    <tr>\n",
              "      <th>2</th>\n",
              "      <td>tezos</td>\n",
              "      <td>Dec 02, 2019</td>\n",
              "      <td>1.25</td>\n",
              "      <td>1.26</td>\n",
              "      <td>1.20</td>\n",
              "      <td>1.24</td>\n",
              "      <td>27574097.0</td>\n",
              "      <td>817872179</td>\n",
              "      <td>0.0634921</td>\n",
              "      <td>0.0634921</td>\n",
              "      <td></td>\n",
              "    </tr>\n",
              "    <tr>\n",
              "      <th>3</th>\n",
              "      <td>tezos</td>\n",
              "      <td>Dec 01, 2019</td>\n",
              "      <td>1.33</td>\n",
              "      <td>1.34</td>\n",
              "      <td>1.25</td>\n",
              "      <td>1.25</td>\n",
              "      <td>24127567.0</td>\n",
              "      <td>828296390</td>\n",
              "      <td>0.0223881</td>\n",
              "      <td>0.0223881</td>\n",
              "      <td></td>\n",
              "    </tr>\n",
              "    <tr>\n",
              "      <th>4</th>\n",
              "      <td>tezos</td>\n",
              "      <td>Nov 30, 2019</td>\n",
              "      <td>1.31</td>\n",
              "      <td>1.37</td>\n",
              "      <td>1.31</td>\n",
              "      <td>1.33</td>\n",
              "      <td>28706667.0</td>\n",
              "      <td>879181680</td>\n",
              "      <td>-0.0218978</td>\n",
              "      <td>0.0218978</td>\n",
              "      <td></td>\n",
              "    </tr>\n",
              "    <tr>\n",
              "      <th>...</th>\n",
              "      <td>...</td>\n",
              "      <td>...</td>\n",
              "      <td>...</td>\n",
              "      <td>...</td>\n",
              "      <td>...</td>\n",
              "      <td>...</td>\n",
              "      <td>...</td>\n",
              "      <td>...</td>\n",
              "      <td>...</td>\n",
              "      <td>...</td>\n",
              "      <td>...</td>\n",
              "    </tr>\n",
              "    <tr>\n",
              "      <th>28939</th>\n",
              "      <td>bitcoin-sv</td>\n",
              "      <td>May 02, 2013</td>\n",
              "      <td>3.78</td>\n",
              "      <td>4.04</td>\n",
              "      <td>3.01</td>\n",
              "      <td>3.37</td>\n",
              "      <td>0.0</td>\n",
              "      <td>58287979</td>\n",
              "      <td>0.0792079</td>\n",
              "      <td>0.0792079</td>\n",
              "      <td></td>\n",
              "    </tr>\n",
              "    <tr>\n",
              "      <th>28940</th>\n",
              "      <td>bitcoin-sv</td>\n",
              "      <td>May 01, 2013</td>\n",
              "      <td>4.29</td>\n",
              "      <td>4.36</td>\n",
              "      <td>3.52</td>\n",
              "      <td>3.80</td>\n",
              "      <td>0.0</td>\n",
              "      <td>65604596</td>\n",
              "      <td>0.0481651</td>\n",
              "      <td>0.0481651</td>\n",
              "      <td></td>\n",
              "    </tr>\n",
              "    <tr>\n",
              "      <th>28941</th>\n",
              "      <td>bitcoin-sv</td>\n",
              "      <td>Apr 30, 2013</td>\n",
              "      <td>4.40</td>\n",
              "      <td>4.57</td>\n",
              "      <td>4.17</td>\n",
              "      <td>4.30</td>\n",
              "      <td>0.0</td>\n",
              "      <td>74020918</td>\n",
              "      <td>0</td>\n",
              "      <td>0</td>\n",
              "      <td></td>\n",
              "    </tr>\n",
              "    <tr>\n",
              "      <th>28942</th>\n",
              "      <td>bitcoin-sv</td>\n",
              "      <td>Apr 29, 2013</td>\n",
              "      <td>4.37</td>\n",
              "      <td>4.57</td>\n",
              "      <td>4.23</td>\n",
              "      <td>4.38</td>\n",
              "      <td>0.0</td>\n",
              "      <td>75388964</td>\n",
              "      <td>-0.0371991</td>\n",
              "      <td>0.0371991</td>\n",
              "      <td></td>\n",
              "    </tr>\n",
              "    <tr>\n",
              "      <th>28943</th>\n",
              "      <td>bitcoin-sv</td>\n",
              "      <td>Apr 28, 2013</td>\n",
              "      <td>4.30</td>\n",
              "      <td>4.40</td>\n",
              "      <td>4.18</td>\n",
              "      <td>4.35</td>\n",
              "      <td>0.0</td>\n",
              "      <td>74636938</td>\n",
              "      <td>0</td>\n",
              "      <td>0</td>\n",
              "      <td></td>\n",
              "    </tr>\n",
              "  </tbody>\n",
              "</table>\n",
              "<p>28944 rows × 11 columns</p>\n",
              "</div>"
            ],
            "text/plain": [
              "         Currency          Date  Open  ...  price change  changeRate  breakout\n",
              "0           tezos  Dec 04, 2019  1.29  ...             0           0          \n",
              "1           tezos  Dec 03, 2019  1.24  ...    -0.0454545   0.0454545          \n",
              "2           tezos  Dec 02, 2019  1.25  ...     0.0634921   0.0634921          \n",
              "3           tezos  Dec 01, 2019  1.33  ...     0.0223881   0.0223881          \n",
              "4           tezos  Nov 30, 2019  1.31  ...    -0.0218978   0.0218978          \n",
              "...           ...           ...   ...  ...           ...         ...       ...\n",
              "28939  bitcoin-sv  May 02, 2013  3.78  ...     0.0792079   0.0792079          \n",
              "28940  bitcoin-sv  May 01, 2013  4.29  ...     0.0481651   0.0481651          \n",
              "28941  bitcoin-sv  Apr 30, 2013  4.40  ...             0           0          \n",
              "28942  bitcoin-sv  Apr 29, 2013  4.37  ...    -0.0371991   0.0371991          \n",
              "28943  bitcoin-sv  Apr 28, 2013  4.30  ...             0           0          \n",
              "\n",
              "[28944 rows x 11 columns]"
            ]
          },
          "metadata": {
            "tags": []
          },
          "execution_count": 8
        }
      ]
    },
    {
      "cell_type": "code",
      "metadata": {
        "colab": {
          "base_uri": "https://localhost:8080/"
        },
        "id": "Jg9XP0UyT0vC",
        "outputId": "c3d5b3db-e4bb-4d4e-a0e1-12dc569745b0"
      },
      "source": [
        "N = len(df['breakout'])\n",
        "\n",
        "for i in range(N):\n",
        "  if df['changeRate'].iloc[i] >= 5:\n",
        "    df['breakout'].iloc[i] = 1\n",
        "  else:\n",
        "    df['breakout'].iloc[i] = 0"
      ],
      "execution_count": null,
      "outputs": [
        {
          "output_type": "stream",
          "text": [
            "/usr/local/lib/python3.6/dist-packages/pandas/core/indexing.py:670: SettingWithCopyWarning: \n",
            "A value is trying to be set on a copy of a slice from a DataFrame\n",
            "\n",
            "See the caveats in the documentation: https://pandas.pydata.org/pandas-docs/stable/user_guide/indexing.html#returning-a-view-versus-a-copy\n",
            "  iloc._setitem_with_indexer(indexer, value)\n"
          ],
          "name": "stderr"
        }
      ]
    },
    {
      "cell_type": "code",
      "metadata": {
        "colab": {
          "base_uri": "https://localhost:8080/",
          "height": 204
        },
        "id": "FLrQ5q5yT06R",
        "outputId": "76ec15fb-c6d6-49bb-92ee-06cfa44c0deb"
      },
      "source": [
        "df.head()"
      ],
      "execution_count": null,
      "outputs": [
        {
          "output_type": "execute_result",
          "data": {
            "text/html": [
              "<div>\n",
              "<style scoped>\n",
              "    .dataframe tbody tr th:only-of-type {\n",
              "        vertical-align: middle;\n",
              "    }\n",
              "\n",
              "    .dataframe tbody tr th {\n",
              "        vertical-align: top;\n",
              "    }\n",
              "\n",
              "    .dataframe thead th {\n",
              "        text-align: right;\n",
              "    }\n",
              "</style>\n",
              "<table border=\"1\" class=\"dataframe\">\n",
              "  <thead>\n",
              "    <tr style=\"text-align: right;\">\n",
              "      <th></th>\n",
              "      <th>Currency</th>\n",
              "      <th>Date</th>\n",
              "      <th>Open</th>\n",
              "      <th>High</th>\n",
              "      <th>Low</th>\n",
              "      <th>Close</th>\n",
              "      <th>Volume</th>\n",
              "      <th>Market Cap</th>\n",
              "      <th>price change</th>\n",
              "      <th>changeRate</th>\n",
              "      <th>breakout</th>\n",
              "    </tr>\n",
              "  </thead>\n",
              "  <tbody>\n",
              "    <tr>\n",
              "      <th>0</th>\n",
              "      <td>tezos</td>\n",
              "      <td>Dec 04, 2019</td>\n",
              "      <td>1.29</td>\n",
              "      <td>1.32</td>\n",
              "      <td>1.25</td>\n",
              "      <td>1.25</td>\n",
              "      <td>46048752.0</td>\n",
              "      <td>824588509</td>\n",
              "      <td>0</td>\n",
              "      <td>0</td>\n",
              "      <td>0</td>\n",
              "    </tr>\n",
              "    <tr>\n",
              "      <th>1</th>\n",
              "      <td>tezos</td>\n",
              "      <td>Dec 03, 2019</td>\n",
              "      <td>1.24</td>\n",
              "      <td>1.32</td>\n",
              "      <td>1.21</td>\n",
              "      <td>1.29</td>\n",
              "      <td>41462224.0</td>\n",
              "      <td>853213342</td>\n",
              "      <td>-0.0454545</td>\n",
              "      <td>0.0454545</td>\n",
              "      <td>0</td>\n",
              "    </tr>\n",
              "    <tr>\n",
              "      <th>2</th>\n",
              "      <td>tezos</td>\n",
              "      <td>Dec 02, 2019</td>\n",
              "      <td>1.25</td>\n",
              "      <td>1.26</td>\n",
              "      <td>1.20</td>\n",
              "      <td>1.24</td>\n",
              "      <td>27574097.0</td>\n",
              "      <td>817872179</td>\n",
              "      <td>0.0634921</td>\n",
              "      <td>0.0634921</td>\n",
              "      <td>0</td>\n",
              "    </tr>\n",
              "    <tr>\n",
              "      <th>3</th>\n",
              "      <td>tezos</td>\n",
              "      <td>Dec 01, 2019</td>\n",
              "      <td>1.33</td>\n",
              "      <td>1.34</td>\n",
              "      <td>1.25</td>\n",
              "      <td>1.25</td>\n",
              "      <td>24127567.0</td>\n",
              "      <td>828296390</td>\n",
              "      <td>0.0223881</td>\n",
              "      <td>0.0223881</td>\n",
              "      <td>0</td>\n",
              "    </tr>\n",
              "    <tr>\n",
              "      <th>4</th>\n",
              "      <td>tezos</td>\n",
              "      <td>Nov 30, 2019</td>\n",
              "      <td>1.31</td>\n",
              "      <td>1.37</td>\n",
              "      <td>1.31</td>\n",
              "      <td>1.33</td>\n",
              "      <td>28706667.0</td>\n",
              "      <td>879181680</td>\n",
              "      <td>-0.0218978</td>\n",
              "      <td>0.0218978</td>\n",
              "      <td>0</td>\n",
              "    </tr>\n",
              "  </tbody>\n",
              "</table>\n",
              "</div>"
            ],
            "text/plain": [
              "  Currency          Date  Open  ...  price change  changeRate  breakout\n",
              "0    tezos  Dec 04, 2019  1.29  ...             0           0         0\n",
              "1    tezos  Dec 03, 2019  1.24  ...    -0.0454545   0.0454545         0\n",
              "2    tezos  Dec 02, 2019  1.25  ...     0.0634921   0.0634921         0\n",
              "3    tezos  Dec 01, 2019  1.33  ...     0.0223881   0.0223881         0\n",
              "4    tezos  Nov 30, 2019  1.31  ...    -0.0218978   0.0218978         0\n",
              "\n",
              "[5 rows x 11 columns]"
            ]
          },
          "metadata": {
            "tags": []
          },
          "execution_count": 10
        }
      ]
    },
    {
      "cell_type": "code",
      "metadata": {
        "colab": {
          "base_uri": "https://localhost:8080/",
          "height": 419
        },
        "id": "nPbxsB4G2CB1",
        "outputId": "1e3666af-fada-4a63-d276-920ecc08033b"
      },
      "source": [
        "df3 = df[df[\"Currency\"] == \"bitcoin-cash\"]\n",
        "df3"
      ],
      "execution_count": null,
      "outputs": [
        {
          "output_type": "execute_result",
          "data": {
            "text/html": [
              "<div>\n",
              "<style scoped>\n",
              "    .dataframe tbody tr th:only-of-type {\n",
              "        vertical-align: middle;\n",
              "    }\n",
              "\n",
              "    .dataframe tbody tr th {\n",
              "        vertical-align: top;\n",
              "    }\n",
              "\n",
              "    .dataframe thead th {\n",
              "        text-align: right;\n",
              "    }\n",
              "</style>\n",
              "<table border=\"1\" class=\"dataframe\">\n",
              "  <thead>\n",
              "    <tr style=\"text-align: right;\">\n",
              "      <th></th>\n",
              "      <th>Currency</th>\n",
              "      <th>Date</th>\n",
              "      <th>Open</th>\n",
              "      <th>High</th>\n",
              "      <th>Low</th>\n",
              "      <th>Close</th>\n",
              "      <th>Volume</th>\n",
              "      <th>Market Cap</th>\n",
              "      <th>price change</th>\n",
              "      <th>changeRate</th>\n",
              "      <th>breakout</th>\n",
              "    </tr>\n",
              "  </thead>\n",
              "  <tbody>\n",
              "    <tr>\n",
              "      <th>14472</th>\n",
              "      <td>bitcoin-cash</td>\n",
              "      <td>Dec 04, 2019</td>\n",
              "      <td>212.68</td>\n",
              "      <td>216.60</td>\n",
              "      <td>205.89</td>\n",
              "      <td>209.29</td>\n",
              "      <td>1.441055e+09</td>\n",
              "      <td>3798514529</td>\n",
              "      <td>0.00258541</td>\n",
              "      <td>0.00258541</td>\n",
              "      <td>0</td>\n",
              "    </tr>\n",
              "    <tr>\n",
              "      <th>14473</th>\n",
              "      <td>bitcoin-cash</td>\n",
              "      <td>Dec 03, 2019</td>\n",
              "      <td>215.50</td>\n",
              "      <td>217.16</td>\n",
              "      <td>211.62</td>\n",
              "      <td>212.86</td>\n",
              "      <td>1.072207e+09</td>\n",
              "      <td>3862794370</td>\n",
              "      <td>0.00810462</td>\n",
              "      <td>0.00810462</td>\n",
              "      <td>0</td>\n",
              "    </tr>\n",
              "    <tr>\n",
              "      <th>14474</th>\n",
              "      <td>bitcoin-cash</td>\n",
              "      <td>Dec 02, 2019</td>\n",
              "      <td>216.38</td>\n",
              "      <td>218.92</td>\n",
              "      <td>212.36</td>\n",
              "      <td>215.66</td>\n",
              "      <td>1.164377e+09</td>\n",
              "      <td>3913199174</td>\n",
              "      <td>0.00155308</td>\n",
              "      <td>0.00155308</td>\n",
              "      <td>0</td>\n",
              "    </tr>\n",
              "    <tr>\n",
              "      <th>14475</th>\n",
              "      <td>bitcoin-cash</td>\n",
              "      <td>Dec 01, 2019</td>\n",
              "      <td>218.99</td>\n",
              "      <td>219.26</td>\n",
              "      <td>212.50</td>\n",
              "      <td>216.17</td>\n",
              "      <td>1.260405e+09</td>\n",
              "      <td>3922144119</td>\n",
              "      <td>0.034206</td>\n",
              "      <td>0.034206</td>\n",
              "      <td>0</td>\n",
              "    </tr>\n",
              "    <tr>\n",
              "      <th>14476</th>\n",
              "      <td>bitcoin-cash</td>\n",
              "      <td>Nov 30, 2019</td>\n",
              "      <td>224.98</td>\n",
              "      <td>226.76</td>\n",
              "      <td>217.43</td>\n",
              "      <td>218.91</td>\n",
              "      <td>1.309093e+09</td>\n",
              "      <td>3971434832</td>\n",
              "      <td>-0.00471865</td>\n",
              "      <td>0.00471865</td>\n",
              "      <td>0</td>\n",
              "    </tr>\n",
              "    <tr>\n",
              "      <th>...</th>\n",
              "      <td>...</td>\n",
              "      <td>...</td>\n",
              "      <td>...</td>\n",
              "      <td>...</td>\n",
              "      <td>...</td>\n",
              "      <td>...</td>\n",
              "      <td>...</td>\n",
              "      <td>...</td>\n",
              "      <td>...</td>\n",
              "      <td>...</td>\n",
              "      <td>...</td>\n",
              "    </tr>\n",
              "    <tr>\n",
              "      <th>16879</th>\n",
              "      <td>bitcoin-cash</td>\n",
              "      <td>May 02, 2013</td>\n",
              "      <td>116.38</td>\n",
              "      <td>125.60</td>\n",
              "      <td>92.28</td>\n",
              "      <td>105.21</td>\n",
              "      <td>0.000000e+00</td>\n",
              "      <td>1168517495</td>\n",
              "      <td>0.113774</td>\n",
              "      <td>0.113774</td>\n",
              "      <td>0</td>\n",
              "    </tr>\n",
              "    <tr>\n",
              "      <th>16880</th>\n",
              "      <td>bitcoin-cash</td>\n",
              "      <td>May 01, 2013</td>\n",
              "      <td>139.00</td>\n",
              "      <td>139.89</td>\n",
              "      <td>107.72</td>\n",
              "      <td>116.99</td>\n",
              "      <td>0.000000e+00</td>\n",
              "      <td>1298954594</td>\n",
              "      <td>0.0503253</td>\n",
              "      <td>0.0503253</td>\n",
              "      <td>0</td>\n",
              "    </tr>\n",
              "    <tr>\n",
              "      <th>16881</th>\n",
              "      <td>bitcoin-cash</td>\n",
              "      <td>Apr 30, 2013</td>\n",
              "      <td>144.00</td>\n",
              "      <td>146.93</td>\n",
              "      <td>134.05</td>\n",
              "      <td>139.00</td>\n",
              "      <td>0.000000e+00</td>\n",
              "      <td>1542813125</td>\n",
              "      <td>0.00381134</td>\n",
              "      <td>0.00381134</td>\n",
              "      <td>0</td>\n",
              "    </tr>\n",
              "    <tr>\n",
              "      <th>16882</th>\n",
              "      <td>bitcoin-cash</td>\n",
              "      <td>Apr 29, 2013</td>\n",
              "      <td>134.44</td>\n",
              "      <td>147.49</td>\n",
              "      <td>134.00</td>\n",
              "      <td>144.54</td>\n",
              "      <td>0.000000e+00</td>\n",
              "      <td>1603768865</td>\n",
              "      <td>-0.0780392</td>\n",
              "      <td>0.0780392</td>\n",
              "      <td>0</td>\n",
              "    </tr>\n",
              "    <tr>\n",
              "      <th>16883</th>\n",
              "      <td>bitcoin-cash</td>\n",
              "      <td>Apr 28, 2013</td>\n",
              "      <td>135.30</td>\n",
              "      <td>135.98</td>\n",
              "      <td>132.10</td>\n",
              "      <td>134.21</td>\n",
              "      <td>0.000000e+00</td>\n",
              "      <td>1488566728</td>\n",
              "      <td>-0.999585</td>\n",
              "      <td>0.999585</td>\n",
              "      <td>0</td>\n",
              "    </tr>\n",
              "  </tbody>\n",
              "</table>\n",
              "<p>2412 rows × 11 columns</p>\n",
              "</div>"
            ],
            "text/plain": [
              "           Currency          Date    Open  ...  price change  changeRate  breakout\n",
              "14472  bitcoin-cash  Dec 04, 2019  212.68  ...    0.00258541  0.00258541         0\n",
              "14473  bitcoin-cash  Dec 03, 2019  215.50  ...    0.00810462  0.00810462         0\n",
              "14474  bitcoin-cash  Dec 02, 2019  216.38  ...    0.00155308  0.00155308         0\n",
              "14475  bitcoin-cash  Dec 01, 2019  218.99  ...      0.034206    0.034206         0\n",
              "14476  bitcoin-cash  Nov 30, 2019  224.98  ...   -0.00471865  0.00471865         0\n",
              "...             ...           ...     ...  ...           ...         ...       ...\n",
              "16879  bitcoin-cash  May 02, 2013  116.38  ...      0.113774    0.113774         0\n",
              "16880  bitcoin-cash  May 01, 2013  139.00  ...     0.0503253   0.0503253         0\n",
              "16881  bitcoin-cash  Apr 30, 2013  144.00  ...    0.00381134  0.00381134         0\n",
              "16882  bitcoin-cash  Apr 29, 2013  134.44  ...    -0.0780392   0.0780392         0\n",
              "16883  bitcoin-cash  Apr 28, 2013  135.30  ...     -0.999585    0.999585         0\n",
              "\n",
              "[2412 rows x 11 columns]"
            ]
          },
          "metadata": {
            "tags": []
          },
          "execution_count": 11
        }
      ]
    },
    {
      "cell_type": "code",
      "metadata": {
        "id": "AcVo3yoYV27A"
      },
      "source": [
        "df2 = df3.drop(['Currency',  'Date', 'price change', 'changeRate'], axis=1)"
      ],
      "execution_count": null,
      "outputs": []
    },
    {
      "cell_type": "code",
      "metadata": {
        "id": "3ps_QrbvT7Ia"
      },
      "source": [
        ""
      ],
      "execution_count": null,
      "outputs": []
    },
    {
      "cell_type": "code",
      "metadata": {
        "colab": {
          "base_uri": "https://localhost:8080/",
          "height": 204
        },
        "id": "Kbl9sUUpU4nq",
        "outputId": "bc118b17-418e-404d-a602-eab3220c69a1"
      },
      "source": [
        "df2.head()"
      ],
      "execution_count": null,
      "outputs": [
        {
          "output_type": "execute_result",
          "data": {
            "text/html": [
              "<div>\n",
              "<style scoped>\n",
              "    .dataframe tbody tr th:only-of-type {\n",
              "        vertical-align: middle;\n",
              "    }\n",
              "\n",
              "    .dataframe tbody tr th {\n",
              "        vertical-align: top;\n",
              "    }\n",
              "\n",
              "    .dataframe thead th {\n",
              "        text-align: right;\n",
              "    }\n",
              "</style>\n",
              "<table border=\"1\" class=\"dataframe\">\n",
              "  <thead>\n",
              "    <tr style=\"text-align: right;\">\n",
              "      <th></th>\n",
              "      <th>Open</th>\n",
              "      <th>High</th>\n",
              "      <th>Low</th>\n",
              "      <th>Close</th>\n",
              "      <th>Volume</th>\n",
              "      <th>Market Cap</th>\n",
              "      <th>breakout</th>\n",
              "    </tr>\n",
              "  </thead>\n",
              "  <tbody>\n",
              "    <tr>\n",
              "      <th>14472</th>\n",
              "      <td>212.68</td>\n",
              "      <td>216.60</td>\n",
              "      <td>205.89</td>\n",
              "      <td>209.29</td>\n",
              "      <td>1.441055e+09</td>\n",
              "      <td>3798514529</td>\n",
              "      <td>0</td>\n",
              "    </tr>\n",
              "    <tr>\n",
              "      <th>14473</th>\n",
              "      <td>215.50</td>\n",
              "      <td>217.16</td>\n",
              "      <td>211.62</td>\n",
              "      <td>212.86</td>\n",
              "      <td>1.072207e+09</td>\n",
              "      <td>3862794370</td>\n",
              "      <td>0</td>\n",
              "    </tr>\n",
              "    <tr>\n",
              "      <th>14474</th>\n",
              "      <td>216.38</td>\n",
              "      <td>218.92</td>\n",
              "      <td>212.36</td>\n",
              "      <td>215.66</td>\n",
              "      <td>1.164377e+09</td>\n",
              "      <td>3913199174</td>\n",
              "      <td>0</td>\n",
              "    </tr>\n",
              "    <tr>\n",
              "      <th>14475</th>\n",
              "      <td>218.99</td>\n",
              "      <td>219.26</td>\n",
              "      <td>212.50</td>\n",
              "      <td>216.17</td>\n",
              "      <td>1.260405e+09</td>\n",
              "      <td>3922144119</td>\n",
              "      <td>0</td>\n",
              "    </tr>\n",
              "    <tr>\n",
              "      <th>14476</th>\n",
              "      <td>224.98</td>\n",
              "      <td>226.76</td>\n",
              "      <td>217.43</td>\n",
              "      <td>218.91</td>\n",
              "      <td>1.309093e+09</td>\n",
              "      <td>3971434832</td>\n",
              "      <td>0</td>\n",
              "    </tr>\n",
              "  </tbody>\n",
              "</table>\n",
              "</div>"
            ],
            "text/plain": [
              "         Open    High     Low   Close        Volume  Market Cap breakout\n",
              "14472  212.68  216.60  205.89  209.29  1.441055e+09  3798514529        0\n",
              "14473  215.50  217.16  211.62  212.86  1.072207e+09  3862794370        0\n",
              "14474  216.38  218.92  212.36  215.66  1.164377e+09  3913199174        0\n",
              "14475  218.99  219.26  212.50  216.17  1.260405e+09  3922144119        0\n",
              "14476  224.98  226.76  217.43  218.91  1.309093e+09  3971434832        0"
            ]
          },
          "metadata": {
            "tags": []
          },
          "execution_count": 27
        }
      ]
    },
    {
      "cell_type": "code",
      "metadata": {
        "id": "LQpE8rJtT9TL"
      },
      "source": [
        "df1 = df2[['Open', 'breakout']].copy()"
      ],
      "execution_count": null,
      "outputs": []
    },
    {
      "cell_type": "code",
      "metadata": {
        "colab": {
          "base_uri": "https://localhost:8080/",
          "height": 204
        },
        "id": "n30GSlnwUqgv",
        "outputId": "a5af7413-5e13-4b99-fc89-d19d505e0d66"
      },
      "source": [
        "df1.head()"
      ],
      "execution_count": null,
      "outputs": [
        {
          "output_type": "execute_result",
          "data": {
            "text/html": [
              "<div>\n",
              "<style scoped>\n",
              "    .dataframe tbody tr th:only-of-type {\n",
              "        vertical-align: middle;\n",
              "    }\n",
              "\n",
              "    .dataframe tbody tr th {\n",
              "        vertical-align: top;\n",
              "    }\n",
              "\n",
              "    .dataframe thead th {\n",
              "        text-align: right;\n",
              "    }\n",
              "</style>\n",
              "<table border=\"1\" class=\"dataframe\">\n",
              "  <thead>\n",
              "    <tr style=\"text-align: right;\">\n",
              "      <th></th>\n",
              "      <th>Open</th>\n",
              "      <th>breakout</th>\n",
              "    </tr>\n",
              "  </thead>\n",
              "  <tbody>\n",
              "    <tr>\n",
              "      <th>14472</th>\n",
              "      <td>212.68</td>\n",
              "      <td>0</td>\n",
              "    </tr>\n",
              "    <tr>\n",
              "      <th>14473</th>\n",
              "      <td>215.50</td>\n",
              "      <td>0</td>\n",
              "    </tr>\n",
              "    <tr>\n",
              "      <th>14474</th>\n",
              "      <td>216.38</td>\n",
              "      <td>0</td>\n",
              "    </tr>\n",
              "    <tr>\n",
              "      <th>14475</th>\n",
              "      <td>218.99</td>\n",
              "      <td>0</td>\n",
              "    </tr>\n",
              "    <tr>\n",
              "      <th>14476</th>\n",
              "      <td>224.98</td>\n",
              "      <td>0</td>\n",
              "    </tr>\n",
              "  </tbody>\n",
              "</table>\n",
              "</div>"
            ],
            "text/plain": [
              "         Open breakout\n",
              "14472  212.68        0\n",
              "14473  215.50        0\n",
              "14474  216.38        0\n",
              "14475  218.99        0\n",
              "14476  224.98        0"
            ]
          },
          "metadata": {
            "tags": []
          },
          "execution_count": 41
        }
      ]
    },
    {
      "cell_type": "code",
      "metadata": {
        "colab": {
          "base_uri": "https://localhost:8080/"
        },
        "id": "fj3gIkyvU89x",
        "outputId": "70f37719-5b21-46e8-99a6-7dab3cedaa7a"
      },
      "source": [
        "# We want 80% of the data to be used for training, and 20% for testing\n",
        "n_train_rows = int(df1.shape[0]*.8)-1\n",
        "\n",
        "# Split into train and test sets but keep all 9 columns\n",
        "train = df1.iloc[:n_train_rows, :]\n",
        "test = df1.iloc[n_train_rows:, :]\n",
        "\n",
        "# The total rows of the two datasets should equal the total amount of rows in your CSV\n",
        "print(train.shape)\n",
        "print(test.shape)"
      ],
      "execution_count": null,
      "outputs": [
        {
          "output_type": "stream",
          "text": [
            "(1928, 2)\n",
            "(484, 2)\n"
          ],
          "name": "stdout"
        }
      ]
    },
    {
      "cell_type": "code",
      "metadata": {
        "id": "asMSUT5AU9E7"
      },
      "source": [
        "from sklearn.preprocessing import MinMaxScaler"
      ],
      "execution_count": null,
      "outputs": []
    },
    {
      "cell_type": "code",
      "metadata": {
        "id": "yjuxBaMJU9K-"
      },
      "source": [
        "# Normalise features\n",
        "sc = MinMaxScaler(feature_range = (0, 1))\n",
        "training_set_scaled = sc.fit_transform(train.values)\n",
        "test_set_scaled = sc.fit_transform(test.values)"
      ],
      "execution_count": null,
      "outputs": []
    },
    {
      "cell_type": "code",
      "metadata": {
        "id": "yS-OvwNAVJKO"
      },
      "source": [
        "from keras.models import Sequential\n",
        "from keras.layers import LSTM\n",
        "from keras.layers import Dense\n",
        "import numpy as np "
      ],
      "execution_count": null,
      "outputs": []
    },
    {
      "cell_type": "code",
      "metadata": {
        "id": "yaFshUJlVJO1"
      },
      "source": [
        "steps=50"
      ],
      "execution_count": null,
      "outputs": []
    },
    {
      "cell_type": "code",
      "metadata": {
        "colab": {
          "base_uri": "https://localhost:8080/"
        },
        "id": "WHnSPOSoVJTL",
        "outputId": "5afb6d78-7329-4849-ca76-5cb089cf5515"
      },
      "source": [
        "print(train.shape)"
      ],
      "execution_count": null,
      "outputs": [
        {
          "output_type": "stream",
          "text": [
            "(1928, 2)\n"
          ],
          "name": "stdout"
        }
      ]
    },
    {
      "cell_type": "code",
      "metadata": {
        "colab": {
          "base_uri": "https://localhost:8080/"
        },
        "id": "MiLPc1_lVJYA",
        "outputId": "5e6daec6-2dcb-446a-ab49-8cfc0f17741b"
      },
      "source": [
        "# Prepare the training data\n",
        "x_train = [] # input\n",
        "y_train = [] # output\n",
        "\n",
        "for i in range(steps, training_set_scaled.shape[0]-steps): #50 to 26538-50\n",
        "    # i starts from 50\n",
        "\n",
        "    x_train.append(training_set_scaled[i-steps:i, :])\n",
        "    y_train.append(training_set_scaled[i, :])\n",
        "\n",
        "x_train, y_train = np.array(x_train), np.array(y_train)\n",
        "print(x_train.shape)\n",
        "print(y_train.shape)"
      ],
      "execution_count": null,
      "outputs": [
        {
          "output_type": "stream",
          "text": [
            "(1828, 50, 2)\n",
            "(1828, 2)\n"
          ],
          "name": "stdout"
        }
      ]
    },
    {
      "cell_type": "code",
      "metadata": {
        "colab": {
          "base_uri": "https://localhost:8080/"
        },
        "id": "ybSv6-nMVJcM",
        "outputId": "9bf5c574-21e8-41a2-93ed-f54272fd4b33"
      },
      "source": [
        "# Prepare the test data\n",
        "x_test = []\n",
        "y_test = []\n",
        "\n",
        "for i in range(steps, test_set_scaled.shape[0]):\n",
        "    x_test.append(test_set_scaled[i-steps:i, :])\n",
        "    y_test.append(test_set_scaled[i, :])\n",
        "\n",
        "x_test, y_test = np.array(x_test), np.array(y_test)\n",
        "print(x_test.shape)"
      ],
      "execution_count": null,
      "outputs": [
        {
          "output_type": "stream",
          "text": [
            "(434, 50, 2)\n"
          ],
          "name": "stdout"
        }
      ]
    },
    {
      "cell_type": "code",
      "metadata": {
        "id": "9BeBsXrBVVyh"
      },
      "source": [
        "from keras.layers import Dropout\n",
        "from keras.layers import Activation\n",
        "from keras.models import load_model"
      ],
      "execution_count": null,
      "outputs": []
    },
    {
      "cell_type": "code",
      "metadata": {
        "colab": {
          "base_uri": "https://localhost:8080/"
        },
        "id": "4elAxpdUVV4Q",
        "outputId": "dcb3a833-cf92-44e6-f1be-42d20d882c3e"
      },
      "source": [
        "x_train.shape\n",
        "y_train.shape"
      ],
      "execution_count": null,
      "outputs": [
        {
          "output_type": "execute_result",
          "data": {
            "text/plain": [
              "(1828, 2)"
            ]
          },
          "metadata": {
            "tags": []
          },
          "execution_count": 51
        }
      ]
    },
    {
      "cell_type": "code",
      "metadata": {
        "colab": {
          "base_uri": "https://localhost:8080/"
        },
        "id": "7K4MPswLVa3d",
        "outputId": "2fd86521-77fb-4b17-82f3-417c71e49e8b"
      },
      "source": [
        "#original model\n",
        "\n",
        "model = Sequential()\n",
        "\n",
        "epochs = 10\n",
        "model.add(LSTM(units=50, return_sequences=True, input_shape= (x_train.shape[1],2)))\n",
        "model.add(Dropout(0.2))\n",
        "model.add(LSTM(units=50, return_sequences=True))\n",
        "model.add(Dropout(0.2))\n",
        "model.add(LSTM(units=50, return_sequences=True))\n",
        "model.add(Dropout(0.2))\n",
        "model.add(LSTM(units=50))\n",
        "model.add(Dropout(0.2))\n",
        "model.add(Dense(units=2))\n",
        "\n",
        "# Compile model\n",
        "model.compile(loss=\"mse\",optimizer=\"adam\", metrics=['accuracy'])\n",
        "\n",
        "# Fit the model\n",
        "history = model.fit(x_train, y_train, batch_size=32, epochs=10)\n",
        "\n",
        "# list all data in history\n",
        "print(history.history.keys())"
      ],
      "execution_count": null,
      "outputs": [
        {
          "output_type": "stream",
          "text": [
            "Epoch 1/10\n",
            "58/58 [==============================] - 12s 94ms/step - loss: 0.0053 - accuracy: 0.8189\n",
            "Epoch 2/10\n",
            "58/58 [==============================] - 6s 99ms/step - loss: 0.0015 - accuracy: 0.7341\n",
            "Epoch 3/10\n",
            "58/58 [==============================] - 6s 100ms/step - loss: 9.2438e-04 - accuracy: 0.7222\n",
            "Epoch 4/10\n",
            "58/58 [==============================] - 6s 102ms/step - loss: 7.7187e-04 - accuracy: 0.7395\n",
            "Epoch 5/10\n",
            "58/58 [==============================] - 6s 106ms/step - loss: 7.3346e-04 - accuracy: 0.7495\n",
            "Epoch 6/10\n",
            "58/58 [==============================] - 6s 99ms/step - loss: 8.7122e-04 - accuracy: 0.7418\n",
            "Epoch 7/10\n",
            "58/58 [==============================] - 6s 99ms/step - loss: 7.1289e-04 - accuracy: 0.7251\n",
            "Epoch 8/10\n",
            "58/58 [==============================] - 6s 100ms/step - loss: 6.3306e-04 - accuracy: 0.7671\n",
            "Epoch 9/10\n",
            "58/58 [==============================] - 6s 99ms/step - loss: 5.8915e-04 - accuracy: 0.7227\n",
            "Epoch 10/10\n",
            "58/58 [==============================] - 6s 100ms/step - loss: 7.5849e-04 - accuracy: 0.6794\n",
            "dict_keys(['loss', 'accuracy'])\n"
          ],
          "name": "stdout"
        }
      ]
    },
    {
      "cell_type": "code",
      "metadata": {
        "id": "VmDeFAymVj_b"
      },
      "source": [
        ""
      ],
      "execution_count": null,
      "outputs": []
    },
    {
      "cell_type": "code",
      "metadata": {
        "id": "aCQ1gnWYVWC5",
        "colab": {
          "base_uri": "https://localhost:8080/"
        },
        "outputId": "6f18eb75-ebda-4c49-c464-8a7e60ee4036"
      },
      "source": [
        "# Evaluate the model on the test data using `evaluate`\n",
        "print('\\n# Evaluate on test data')\n",
        "results = model.evaluate(x_test, y_test, batch_size=32)\n",
        "print('test loss, test acc:', results)"
      ],
      "execution_count": null,
      "outputs": [
        {
          "output_type": "stream",
          "text": [
            "\n",
            "# Evaluate on test data\n",
            "14/14 [==============================] - 2s 23ms/step - loss: 0.0046 - accuracy: 0.9977\n",
            "test loss, test acc: [0.004639254882931709, 0.9976958632469177]\n"
          ],
          "name": "stdout"
        }
      ]
    },
    {
      "cell_type": "code",
      "metadata": {
        "id": "n1_CjlNdVWIl"
      },
      "source": [
        ""
      ],
      "execution_count": null,
      "outputs": []
    },
    {
      "cell_type": "markdown",
      "metadata": {
        "id": "y6YKe8pNWhg7"
      },
      "source": [
        "### **7 features**"
      ]
    },
    {
      "cell_type": "code",
      "metadata": {
        "id": "z2khoTEfVWNh",
        "colab": {
          "base_uri": "https://localhost:8080/",
          "height": 204
        },
        "outputId": "ca28a090-f873-4fdc-b69e-3dc5c4141155"
      },
      "source": [
        "df2.head()"
      ],
      "execution_count": null,
      "outputs": [
        {
          "output_type": "execute_result",
          "data": {
            "text/html": [
              "<div>\n",
              "<style scoped>\n",
              "    .dataframe tbody tr th:only-of-type {\n",
              "        vertical-align: middle;\n",
              "    }\n",
              "\n",
              "    .dataframe tbody tr th {\n",
              "        vertical-align: top;\n",
              "    }\n",
              "\n",
              "    .dataframe thead th {\n",
              "        text-align: right;\n",
              "    }\n",
              "</style>\n",
              "<table border=\"1\" class=\"dataframe\">\n",
              "  <thead>\n",
              "    <tr style=\"text-align: right;\">\n",
              "      <th></th>\n",
              "      <th>Open</th>\n",
              "      <th>High</th>\n",
              "      <th>Low</th>\n",
              "      <th>Close</th>\n",
              "      <th>Volume</th>\n",
              "      <th>Market Cap</th>\n",
              "      <th>breakout</th>\n",
              "    </tr>\n",
              "  </thead>\n",
              "  <tbody>\n",
              "    <tr>\n",
              "      <th>14472</th>\n",
              "      <td>212.68</td>\n",
              "      <td>216.60</td>\n",
              "      <td>205.89</td>\n",
              "      <td>209.29</td>\n",
              "      <td>1.441055e+09</td>\n",
              "      <td>3798514529</td>\n",
              "      <td>0</td>\n",
              "    </tr>\n",
              "    <tr>\n",
              "      <th>14473</th>\n",
              "      <td>215.50</td>\n",
              "      <td>217.16</td>\n",
              "      <td>211.62</td>\n",
              "      <td>212.86</td>\n",
              "      <td>1.072207e+09</td>\n",
              "      <td>3862794370</td>\n",
              "      <td>0</td>\n",
              "    </tr>\n",
              "    <tr>\n",
              "      <th>14474</th>\n",
              "      <td>216.38</td>\n",
              "      <td>218.92</td>\n",
              "      <td>212.36</td>\n",
              "      <td>215.66</td>\n",
              "      <td>1.164377e+09</td>\n",
              "      <td>3913199174</td>\n",
              "      <td>0</td>\n",
              "    </tr>\n",
              "    <tr>\n",
              "      <th>14475</th>\n",
              "      <td>218.99</td>\n",
              "      <td>219.26</td>\n",
              "      <td>212.50</td>\n",
              "      <td>216.17</td>\n",
              "      <td>1.260405e+09</td>\n",
              "      <td>3922144119</td>\n",
              "      <td>0</td>\n",
              "    </tr>\n",
              "    <tr>\n",
              "      <th>14476</th>\n",
              "      <td>224.98</td>\n",
              "      <td>226.76</td>\n",
              "      <td>217.43</td>\n",
              "      <td>218.91</td>\n",
              "      <td>1.309093e+09</td>\n",
              "      <td>3971434832</td>\n",
              "      <td>0</td>\n",
              "    </tr>\n",
              "  </tbody>\n",
              "</table>\n",
              "</div>"
            ],
            "text/plain": [
              "         Open    High     Low   Close        Volume  Market Cap breakout\n",
              "14472  212.68  216.60  205.89  209.29  1.441055e+09  3798514529        0\n",
              "14473  215.50  217.16  211.62  212.86  1.072207e+09  3862794370        0\n",
              "14474  216.38  218.92  212.36  215.66  1.164377e+09  3913199174        0\n",
              "14475  218.99  219.26  212.50  216.17  1.260405e+09  3922144119        0\n",
              "14476  224.98  226.76  217.43  218.91  1.309093e+09  3971434832        0"
            ]
          },
          "metadata": {
            "tags": []
          },
          "execution_count": 66
        }
      ]
    },
    {
      "cell_type": "code",
      "metadata": {
        "id": "qteQT8m6VWUD",
        "colab": {
          "base_uri": "https://localhost:8080/"
        },
        "outputId": "b2ce1c52-bb8b-4eac-ed87-d67552ca42b8"
      },
      "source": [
        "# We want 80% of the data to be used for training, and 20% for testing\n",
        "n_train_rows = int(df2.shape[0]*.8)-1\n",
        "\n",
        "# Split into train and test sets but keep all 9 columns\n",
        "train = df2.iloc[:n_train_rows, :]\n",
        "test = df2.iloc[n_train_rows:, :]\n",
        "\n",
        "# The total rows of the two datasets should equal the total amount of rows in your CSV\n",
        "print(train.shape)\n",
        "print(test.shape)"
      ],
      "execution_count": null,
      "outputs": [
        {
          "output_type": "stream",
          "text": [
            "(1928, 7)\n",
            "(484, 7)\n"
          ],
          "name": "stdout"
        }
      ]
    },
    {
      "cell_type": "code",
      "metadata": {
        "id": "7GQ8iBl-U9Pt"
      },
      "source": [
        "from sklearn.preprocessing import MinMaxScaler"
      ],
      "execution_count": null,
      "outputs": []
    },
    {
      "cell_type": "code",
      "metadata": {
        "id": "AVot_7OLW5Bs"
      },
      "source": [
        "# Normalise features\n",
        "sc = MinMaxScaler(feature_range = (0, 1))\n",
        "training_set_scaled = sc.fit_transform(train.values)\n",
        "test_set_scaled = sc.fit_transform(test.values)"
      ],
      "execution_count": null,
      "outputs": []
    },
    {
      "cell_type": "code",
      "metadata": {
        "id": "mEwXgKqPW5LF"
      },
      "source": [
        "from keras.models import Sequential\n",
        "from keras.layers import LSTM\n",
        "from keras.layers import Dense\n",
        "import numpy as np "
      ],
      "execution_count": null,
      "outputs": []
    },
    {
      "cell_type": "code",
      "metadata": {
        "id": "QtLhNPOnW5Oe"
      },
      "source": [
        "steps=50"
      ],
      "execution_count": null,
      "outputs": []
    },
    {
      "cell_type": "code",
      "metadata": {
        "id": "fOCezD5nW5Rj"
      },
      "source": [
        "# Prepare the training data\n",
        "x_train = [] # input\n",
        "y_train = [] # output\n",
        "\n",
        "for i in range(steps, training_set_scaled.shape[0]-steps): #50 to 26538-50\n",
        "    # i starts from 50\n",
        "\n",
        "    x_train.append(training_set_scaled[i-steps:i, :])\n",
        "    y_train.append(training_set_scaled[i, :])\n",
        "\n",
        "x_train, y_train = np.array(x_train), np.array(y_train)\n",
        "print(x_train.shape)\n",
        "print(y_train.shape)"
      ],
      "execution_count": null,
      "outputs": []
    },
    {
      "cell_type": "code",
      "metadata": {
        "colab": {
          "base_uri": "https://localhost:8080/"
        },
        "id": "HfU7HZvcXl31",
        "outputId": "3d52e3c9-f39b-486d-dfb2-e8c7c6d54145"
      },
      "source": [
        "# Prepare the training data\n",
        "x_train = [] # input\n",
        "y_train = [] # output\n",
        "\n",
        "for i in range(steps, training_set_scaled.shape[0]-steps): #50 to 26538-50\n",
        "    # i starts from 50\n",
        "\n",
        "    x_train.append(training_set_scaled[i-steps:i, :])\n",
        "    y_train.append(training_set_scaled[i, :])\n",
        "\n",
        "x_train, y_train = np.array(x_train), np.array(y_train)\n",
        "print(x_train.shape)\n",
        "print(y_train.shape)"
      ],
      "execution_count": null,
      "outputs": [
        {
          "output_type": "stream",
          "text": [
            "(1828, 50, 7)\n",
            "(1828, 7)\n"
          ],
          "name": "stdout"
        }
      ]
    },
    {
      "cell_type": "code",
      "metadata": {
        "colab": {
          "base_uri": "https://localhost:8080/"
        },
        "id": "4nNwnOSsW5Ua",
        "outputId": "da0c620a-5172-4f99-ba1c-308f02bb20e4"
      },
      "source": [
        "# Prepare the test data\n",
        "x_test = []\n",
        "y_test = []\n",
        "\n",
        "for i in range(steps, test_set_scaled.shape[0]):\n",
        "    x_test.append(test_set_scaled[i-steps:i, :])\n",
        "    y_test.append(test_set_scaled[i, :])\n",
        "\n",
        "x_test, y_test = np.array(x_test), np.array(y_test)\n",
        "print(x_test.shape)"
      ],
      "execution_count": null,
      "outputs": [
        {
          "output_type": "stream",
          "text": [
            "(434, 50, 7)\n"
          ],
          "name": "stdout"
        }
      ]
    },
    {
      "cell_type": "code",
      "metadata": {
        "id": "olmMiw-hW5XZ"
      },
      "source": [
        "from keras.layers import Dropout\n",
        "from keras.layers import Activation\n",
        "from keras.models import load_model"
      ],
      "execution_count": null,
      "outputs": []
    },
    {
      "cell_type": "code",
      "metadata": {
        "colab": {
          "base_uri": "https://localhost:8080/"
        },
        "id": "RCt-BWImXTT5",
        "outputId": "fbf893af-7c21-4d43-a8c1-ee1d84e0a527"
      },
      "source": [
        "x_train.shape\n",
        "y_train.shape"
      ],
      "execution_count": null,
      "outputs": [
        {
          "output_type": "execute_result",
          "data": {
            "text/plain": [
              "(1828, 7)"
            ]
          },
          "metadata": {
            "tags": []
          },
          "execution_count": 76
        }
      ]
    },
    {
      "cell_type": "code",
      "metadata": {
        "colab": {
          "base_uri": "https://localhost:8080/"
        },
        "id": "NiT6wHgEXTbY",
        "outputId": "cc24f357-cd2d-4ecc-b774-11486bcb17fb"
      },
      "source": [
        "#original model\n",
        "\n",
        "model = Sequential()\n",
        "\n",
        "epochs = 10\n",
        "model.add(LSTM(units=50, return_sequences=True, input_shape= (x_train.shape[1],7)))\n",
        "model.add(Dropout(0.2))\n",
        "model.add(LSTM(units=50, return_sequences=True))\n",
        "model.add(Dropout(0.2))\n",
        "model.add(LSTM(units=50, return_sequences=True))\n",
        "model.add(Dropout(0.2))\n",
        "model.add(LSTM(units=50))\n",
        "model.add(Dropout(0.2))\n",
        "model.add(Dense(units=7))\n",
        "\n",
        "# Compile model\n",
        "model.compile(loss=\"mse\",optimizer=\"adam\", metrics=['accuracy'])\n",
        "\n",
        "# Fit the model\n",
        "history = model.fit(x_train, y_train, batch_size=32, epochs=10)\n",
        "\n",
        "# list all data in history\n",
        "print(history.history.keys())"
      ],
      "execution_count": null,
      "outputs": [
        {
          "output_type": "stream",
          "text": [
            "Epoch 1/10\n",
            "58/58 [==============================] - 12s 95ms/step - loss: 0.0084 - accuracy: 0.2008\n",
            "Epoch 2/10\n",
            "58/58 [==============================] - 6s 99ms/step - loss: 0.0025 - accuracy: 0.3182\n",
            "Epoch 3/10\n",
            "58/58 [==============================] - 6s 98ms/step - loss: 0.0022 - accuracy: 0.3464\n",
            "Epoch 4/10\n",
            "58/58 [==============================] - 6s 99ms/step - loss: 0.0019 - accuracy: 0.3884\n",
            "Epoch 5/10\n",
            "58/58 [==============================] - 6s 98ms/step - loss: 0.0018 - accuracy: 0.3827\n",
            "Epoch 6/10\n",
            "58/58 [==============================] - 6s 100ms/step - loss: 0.0019 - accuracy: 0.4243\n",
            "Epoch 7/10\n",
            "58/58 [==============================] - 6s 99ms/step - loss: 0.0015 - accuracy: 0.4306\n",
            "Epoch 8/10\n",
            "58/58 [==============================] - 6s 105ms/step - loss: 0.0014 - accuracy: 0.4580\n",
            "Epoch 9/10\n",
            "58/58 [==============================] - 6s 100ms/step - loss: 0.0012 - accuracy: 0.4390\n",
            "Epoch 10/10\n",
            "58/58 [==============================] - 6s 100ms/step - loss: 0.0012 - accuracy: 0.4481\n",
            "dict_keys(['loss', 'accuracy'])\n"
          ],
          "name": "stdout"
        }
      ]
    },
    {
      "cell_type": "code",
      "metadata": {
        "colab": {
          "base_uri": "https://localhost:8080/"
        },
        "id": "m1G7rJOoX2X-",
        "outputId": "31016cc7-9d9d-4376-f8e7-0d5a7d0975d5"
      },
      "source": [
        "# Evaluate the model on the test data using `evaluate`\n",
        "print('\\n# Evaluate on test data')\n",
        "results = model.evaluate(x_test, y_test, batch_size=32)\n",
        "print('test loss, test acc:', results)"
      ],
      "execution_count": null,
      "outputs": [
        {
          "output_type": "stream",
          "text": [
            "\n",
            "# Evaluate on test data\n",
            "14/14 [==============================] - 2s 22ms/step - loss: 0.0085 - accuracy: 0.3894\n",
            "test loss, test acc: [0.008538463152945042, 0.3894009292125702]\n"
          ],
          "name": "stdout"
        }
      ]
    },
    {
      "cell_type": "code",
      "metadata": {
        "id": "Yc5X3ElOX22a"
      },
      "source": [
        ""
      ],
      "execution_count": null,
      "outputs": []
    },
    {
      "cell_type": "code",
      "metadata": {
        "id": "uy16HrGMXTjN"
      },
      "source": [
        ""
      ],
      "execution_count": null,
      "outputs": []
    },
    {
      "cell_type": "code",
      "metadata": {
        "id": "pc9NfmWWW5aR"
      },
      "source": [
        ""
      ],
      "execution_count": null,
      "outputs": []
    },
    {
      "cell_type": "code",
      "metadata": {
        "id": "bcsYfCSFW5dE"
      },
      "source": [
        ""
      ],
      "execution_count": null,
      "outputs": []
    },
    {
      "cell_type": "code",
      "metadata": {
        "id": "eL-GbvhlW5f_"
      },
      "source": [
        ""
      ],
      "execution_count": null,
      "outputs": []
    }
  ]
}